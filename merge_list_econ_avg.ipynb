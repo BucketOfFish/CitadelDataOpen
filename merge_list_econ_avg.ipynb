{
 "cells": [
  {
   "cell_type": "code",
   "execution_count": 16,
   "metadata": {
    "collapsed": true
   },
   "outputs": [],
   "source": [
    "%matplotlib inline\n",
    "import pandas as pd\n",
    "import numpy as np\n",
    "\n",
    "\n",
    "cal = pd.read_csv(\"calendar.csv\", sep=\",\")\n",
    "demo = pd.read_csv(\"demographics.csv\", sep=\",\")\n",
    "econ = pd.read_csv(\"econ_state.csv\", sep=\",\")\n",
    "ls = pd.read_csv(\"listings.csv\", sep=\",\")\n",
    "real = pd.read_csv(\"real_estate.csv\", sep=\",\")\n",
    "ven = pd.read_csv(\"venues.csv\", sep=\",\")\n"
   ]
  },
  {
   "cell_type": "code",
   "execution_count": 8,
   "metadata": {
    "collapsed": true
   },
   "outputs": [],
   "source": [
    "#Average Personal Income per State 2011-2016 taken from excel\n",
    "inc_srs = {\"average\": [176791615.7,\n",
    "39290291.13,\n",
    "249448704.6,\n",
    "108831696.7,\n",
    "1938410568,\n",
    "253766415.6,\n",
    "238263079.4,\n",
    "42112554.09,\n",
    "45290541.96,\n",
    "838566684.3,\n",
    "386351603,\n",
    "64817569.43,\n",
    "58951608.43,\n",
    "612544084.4,\n",
    "263205209.1,\n",
    "135754424.6,\n",
    "132372574.5,\n",
    "161425112.3,\n",
    "189804889.8,\n",
    "54469133.3,\n",
    "321742870.5,\n",
    "397760589.2,\n",
    "399937811.3,\n",
    "262641717.3,\n",
    "100691665.5,\n",
    "246204419.9,\n",
    "40949236.22,\n",
    "88230701.7,\n",
    "113101411.6,\n",
    "70531186,\n",
    "508790770.2,\n",
    "75523208.17,\n",
    "1094531210,\n",
    "385892535.2,\n",
    "39901185.96,\n",
    "481395422.6,\n",
    "165899137.9,\n",
    "162150640.8,\n",
    "604257968.4,\n",
    "50096894.61,\n",
    "174639436.4,\n",
    "38847129.74,\n",
    "260516938.4,\n",
    "1188915979,\n",
    "108187560.7,\n",
    "29093390.22,\n",
    "414091212,\n",
    "344361453.3,\n",
    "65545407.52,\n",
    "251480529.2,\n",
    "31149428.13\n",
    "]}\n",
    "avg_inc = pd.DataFrame(inc_srs, index = [\"AL\", \"AK\",\"AZ\",\"AR\",\"CA\",\"CO\",\"CT\",\"DE\",\"DC\",\"FL\",\"GA\",\"HI\",\"ID\",\"IL\",\"IN\",\"IA\",\"KS\",\n",
    "\"KY\",\"LA\",\"ME\",\"MD\",\"MA\",\"MI\",\"MN\",\"MS\",\"MO\",\"MT\",\"NE\",\"NV\",\"NH\",\"NJ\",\"NM\",\"NY\",'NC','ND','OH','OK','OR','PA','RI','SC','SD','TN','TX',\n",
    "'UT','VT','VA','WA','WV','WI','WY'])"
   ]
  },
  {
   "cell_type": "code",
   "execution_count": 9,
   "metadata": {
    "collapsed": true
   },
   "outputs": [],
   "source": [
    "#Average GDP form 2011-2016 taken from excel\n",
    "gdp_state = {\"average\": [191991.9565,57137.13043,275708.7391,114656.913,2286225.043,292420.3478,244541.7391,64137.43478,\n",
    "115288.087,819574.4783,466072.6957,75951.78261,61720.52174,736587.7826,316920.2174,164064.2609,144765.6522,183692.2609,\n",
    "238869.5217,54654.56522,346141.8261,453538.0435,439186.3913,307783.6957,103050.2174,279151.7391,43625.30435,107732,132169.5217,70188,537377.8261,91781.30435,1354936.609,\n",
    "464976.1304,52697,576236.1739,180599.2174,206497.6957,669048.3913,53191.08696,186908.9565,44893.73913,293867.3478,1529511.913,137171.6522,\n",
    "29050.52174,457398.0435,414854.0435,72502.21739,285275.9565,40416.95652]}\n",
    "avg_gdp = pd.DataFrame(gdp_state, index = [\"AL\", \"AK\",\"AZ\",\"AR\",\"CA\",\"CO\",\"CT\",\"DE\",\"DC\",\"FL\",\"GA\",\"HI\",\"ID\",\"IL\",\"IN\",\"IA\",\"KS\",\n",
    "\"KY\",\"LA\",\"ME\",\"MD\",\"MA\",\"MI\",\"MN\",\"MS\",\"MO\",\"MT\",\"NE\",\"NV\",\"NH\",\"NJ\",\"NM\",\"NY\",'NC','ND','OH','OK','OR','PA','RI','SC','SD','TN','TX',\n",
    "'UT','VT','VA','WA','WV','WI','WY'])"
   ]
  },
  {
   "cell_type": "code",
   "execution_count": 10,
   "metadata": {
    "collapsed": true
   },
   "outputs": [],
   "source": [
    "#Average Unemployment rate 2011-2016 taken from excel\n",
    "ur = {\"average_unemployment\": [6.916666667,\n",
    "7.241666667, 6.344444444,7.191666667,8.302777778,5.804166667,7.006944444,8.048611111,6.047222222,6.945833333,7.580555556,4.768055556,\n",
    "4.490277778,5.723611111,7.733333333,6.669444444,5.045833333,7.023611111,6.656944444,5.761111111,5.95,5.955555556,7.561111111,\n",
    "4.780555556,6.251388889,7.830555556,5.197222222,7.358333333,3.009722222,3.609722222,4.395833333,7.376388889,6.880555556,8.997222222,\n",
    "6.797222222,6.509722222,4.998611111,7.218055556,6.541666667,8.247222222,7.3625,3.669444444,6.859722222,5.772222222,4.548611111,\n",
    "5.276388889,4.254166667,6.891666667,5.904166667,6.913888889,4.902777778]}\n",
    "avg_ur = pd.DataFrame(ur, index = [\"AL\", \"AK\",\"AZ\",\"AR\",\"CA\",\"CO\",\"CT\",\"DE\",\"DC\",\"FL\",\"GA\",\"HI\",\"ID\",\"IL\",\"IN\",\"IA\",\"KS\",\n",
    "\"KY\",\"LA\",\"ME\",\"MD\",\"MA\",\"MI\",\"MN\",\"MS\",\"MO\",\"MT\",\"NE\",\"NV\",\"NH\",\"NJ\",\"NM\",\"NY\",'NC','ND','OH','OK','OR','PA','RI','SC','SD','TN','TX',\n",
    "'UT','VT','VA','WA','WV','WI','WY'])"
   ]
  },
  {
   "cell_type": "code",
   "execution_count": 11,
   "metadata": {
    "collapsed": true
   },
   "outputs": [],
   "source": [
    "df_econ = avg_gdp.join(avg_inc, lsuffix='_gdp', rsuffix='_income')\n",
    "df_econ['state']= [\"AL\", \"AK\",\"AZ\",\"AR\",\"CA\",\"CO\",\"CT\",\"DE\",\"DC\",\"FL\",\"GA\",\"HI\",\"ID\",\"IL\",\"IN\",\"IA\",\"KS\",\n",
    "\"KY\",\"LA\",\"ME\",\"MD\",\"MA\",\"MI\",\"MN\",\"MS\",\"MO\",\"MT\",\"NE\",\"NV\",\"NH\",\"NJ\",\"NM\",\"NY\",'NC','ND','OH','OK','OR','PA','RI','SC','SD','TN','TX',\n",
    "'UT','VT','VA','WA','WV','WI','WY']"
   ]
  },
  {
   "cell_type": "code",
   "execution_count": 15,
   "metadata": {},
   "outputs": [],
   "source": [
    "df_econ_2 = df_econ.join(avg_ur)"
   ]
  },
  {
   "cell_type": "code",
   "execution_count": 17,
   "metadata": {},
   "outputs": [],
   "source": [
    "new_listings = pd.merge(ls,df_econ_2.iloc[:,:],how=\"inner\",left_on='state',right_on=\"state\")"
   ]
  },
  {
   "cell_type": "code",
   "execution_count": null,
   "metadata": {
    "collapsed": true
   },
   "outputs": [],
   "source": []
  }
 ],
 "metadata": {
  "kernelspec": {
   "display_name": "Python 3",
   "language": "python",
   "name": "python3"
  },
  "language_info": {
   "codemirror_mode": {
    "name": "ipython",
    "version": 3
   },
   "file_extension": ".py",
   "mimetype": "text/x-python",
   "name": "python",
   "nbconvert_exporter": "python",
   "pygments_lexer": "ipython3",
   "version": "3.6.1"
  }
 },
 "nbformat": 4,
 "nbformat_minor": 2
}
